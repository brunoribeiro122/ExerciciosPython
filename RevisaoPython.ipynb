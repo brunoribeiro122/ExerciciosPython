{
  "nbformat": 4,
  "nbformat_minor": 0,
  "metadata": {
    "colab": {
      "provenance": [],
      "authorship_tag": "ABX9TyOSCJhjXJffD22hBRk6u3M+",
      "include_colab_link": true
    },
    "kernelspec": {
      "name": "python3",
      "display_name": "Python 3"
    },
    "language_info": {
      "name": "python"
    }
  },
  "cells": [
    {
      "cell_type": "markdown",
      "metadata": {
        "id": "view-in-github",
        "colab_type": "text"
      },
      "source": [
        "<a href=\"https://colab.research.google.com/github/brunoribeiro122/ExerciciosPython/blob/main/RevisaoPython.ipynb\" target=\"_parent\"><img src=\"https://colab.research.google.com/assets/colab-badge.svg\" alt=\"Open In Colab\"/></a>"
      ]
    },
    {
      "cell_type": "code",
      "source": [
        "print('Vai Brasil!')"
      ],
      "metadata": {
        "id": "ZbbFSCPoaR4z",
        "colab": {
          "base_uri": "https://localhost:8080/"
        },
        "outputId": "cb05d864-4620-4e9c-e893-32484aa79c1d"
      },
      "execution_count": null,
      "outputs": [
        {
          "output_type": "stream",
          "name": "stdout",
          "text": [
            "Vai Brasil!\n"
          ]
        }
      ]
    },
    {
      "cell_type": "markdown",
      "source": [
        "#Variáveis (variavel é um espaço na memória destinado a armazenar alguma informação, esse espaço é reservado na memoria ram quando você executa o programa) gustavo guanabara curso de banco de dados\n",
        "\n",
        "```\n",
        "# Isto` está formatado como código`\n",
        "```\n",
        "\n"
      ],
      "metadata": {
        "id": "O393baLwVWwM"
      }
    },
    {
      "cell_type": "code",
      "source": [
        "nome = 'Bruno'\n",
        "sobre_nome = 'Lica'\n",
        "_idade = 17\n",
        "__idade = \"17\"\n",
        "___idade = 17.0\n",
        "#concatenação\n",
        "print( nome + ' ' + sobre_nome)\n",
        "print(type(_idade),_idade)\n",
        "print(type(__idade),__idade)\n",
        "print(type(___idade),___idade)"
      ],
      "metadata": {
        "colab": {
          "base_uri": "https://localhost:8080/"
        },
        "id": "JJQy1SouVSdE",
        "outputId": "9df33c16-2164-49e9-a685-6889a658e81c"
      },
      "execution_count": null,
      "outputs": [
        {
          "output_type": "stream",
          "name": "stdout",
          "text": [
            "Bruno Lica\n",
            "<class 'int'> 17\n",
            "<class 'str'> 17\n",
            "<class 'float'> 17.0\n"
          ]
        }
      ]
    },
    {
      "cell_type": "markdown",
      "source": [
        "#Os tipos de dado padrão do Python são:\n",
        "1. Inteiro(int)\n",
        "2. Ponto Flutuante ou Decimal (float)\n",
        "3. Tipo Complexo (complex)\n",
        "4. String (str)\n",
        "5. Boolean (bool) \"Verdadeiro ou Falso\"\n",
        "6. List (list) \"uma lista literalmente (0,1,2,3,4)\n",
        "7. Tuple \"não é possivel modificar os valores, diferente da lista que é possivel atribuir novos valores depois de declarada.\"\n",
        "8. Dicionary "
      ],
      "metadata": {
        "id": "DikrBe0Ubf72"
      }
    },
    {
      "cell_type": "code",
      "source": [
        "idade = 17\n",
        "ano = 2003"
      ],
      "metadata": {
        "id": "JGWkUKiwVSij"
      },
      "execution_count": null,
      "outputs": []
    },
    {
      "cell_type": "code",
      "source": [
        "nome_input = str(input('Qual o seu nome?'))\n",
        "print( 'Olá\\n' + nome_input + '!')\n"
      ],
      "metadata": {
        "colab": {
          "base_uri": "https://localhost:8080/"
        },
        "id": "OPsSAT8WVSlL",
        "outputId": "11276099-9dba-46c2-d637-8f05041c0019"
      },
      "execution_count": null,
      "outputs": [
        {
          "output_type": "stream",
          "name": "stdout",
          "text": [
            "Qual o seu nome?Bruno\n",
            "Olá\n",
            "Bruno!\n"
          ]
        }
      ]
    },
    {
      "cell_type": "code",
      "source": [
        "nome_input = str(input('Qual o seu nome?'))\n",
        "sobrenome = str(input('Qual seu sobrenome?'))\n",
        "print( 'Olá\\n' + nome_input + ' ' + sobrenome+'!')"
      ],
      "metadata": {
        "colab": {
          "base_uri": "https://localhost:8080/"
        },
        "id": "Akusx16iVSns",
        "outputId": "c48463b3-a83d-41e5-d675-9a124a1ce38d"
      },
      "execution_count": null,
      "outputs": [
        {
          "output_type": "stream",
          "name": "stdout",
          "text": [
            "Qual o seu nome?Bruno\n",
            "Qual seu sobrenome?Ribeiro\n",
            "Olá\n",
            "Bruno Ribeiro!\n"
          ]
        }
      ]
    },
    {
      "cell_type": "code",
      "source": [
        "var = [0,1,2,3]\n",
        "var[0] = str(input('Qual o seu nome ?'))\n",
        "var[1] = str(input('Qual o seu sobrenome ?'))\n",
        "var[2] = float(input('Qual foi a nota da sua nota da prova ?'))\n",
        "var[3] = float(input('Qual foi a nota do seu trabalho ?'))\n",
        "print(\"O aluno {} {} tem como nota {}!\".format(var[0], var[1],(var[2]+var[3])/2))\n",
        "#.format é uma especie de contatenação feita de outra forma, ele substitui as chaves {} pelo valor definido entre os parenteses\n"
      ],
      "metadata": {
        "colab": {
          "base_uri": "https://localhost:8080/"
        },
        "id": "6mxoWnssVSqL",
        "outputId": "6acbbe16-ed4f-4f5c-fa58-50c9414aaeec"
      },
      "execution_count": null,
      "outputs": [
        {
          "output_type": "stream",
          "name": "stdout",
          "text": [
            "Qual o seu nome ?Bruno\n",
            "Qual o seu sobrenome ?Ribeiro\n",
            "Qual foi a nota da sua nota da prova ?10\n",
            "Qual foi a nota do seu trabalho ?5\n",
            "O aluno Bruno Ribeiro tem como nota 7.5!\n"
          ]
        }
      ]
    },
    {
      "cell_type": "code",
      "source": [
        "\n",
        "10/3\n",
        "# 5/2 = 2.5 \n",
        "# 5//2 = 2 ele usa pega apenas o numero inteiro como por exemplo 10//3 = 3 10/3 = 3.33333333\n",
        "#trabalhar com numeros em python utilizar a biblioteca \"math\""
      ],
      "metadata": {
        "id": "2PyHvPEHbgDr",
        "colab": {
          "base_uri": "https://localhost:8080/"
        },
        "outputId": "e01954ee-365a-4a1d-9d5a-3813bbb6d98f"
      },
      "execution_count": null,
      "outputs": [
        {
          "output_type": "execute_result",
          "data": {
            "text/plain": [
              "3.3333333333333335"
            ]
          },
          "metadata": {},
          "execution_count": 21
        }
      ]
    },
    {
      "cell_type": "markdown",
      "source": [
        "#Operadores de atribuição\n",
        "var += 1\n",
        "é a mesma coisa que numero = numero + 1"
      ],
      "metadata": {
        "id": "ymvYxboBfzWq"
      }
    },
    {
      "cell_type": "code",
      "source": [
        "numero = 1\n",
        "numeros = 1\n",
        "numero += 1\n",
        "numeros = numeros + 1\n",
        "print(numero)\n",
        "print(numeros)\n"
      ],
      "metadata": {
        "colab": {
          "base_uri": "https://localhost:8080/"
        },
        "id": "CEXniIPefbkK",
        "outputId": "c09d672c-b1b8-43dc-dead-0de4784a7a21"
      },
      "execution_count": null,
      "outputs": [
        {
          "output_type": "stream",
          "name": "stdout",
          "text": [
            "2\n",
            "2\n"
          ]
        }
      ]
    },
    {
      "cell_type": "markdown",
      "source": [],
      "metadata": {
        "id": "ujba60Npil3y"
      }
    },
    {
      "cell_type": "code",
      "source": [
        "#eleição\n",
        "idade = int(input('digite sua idade'))\n",
        "if idade < 18 and idade >= 16 or idade >= 75:\n",
        "    print('Você pode votar, porem é opcional')\n",
        "elif idade >= 18 and idade < 75:\n",
        "    print('Você é obrigado a votar')\n",
        "else :\n",
        "    print('Você não pode votar')\n"
      ],
      "metadata": {
        "colab": {
          "base_uri": "https://localhost:8080/"
        },
        "id": "Mkv-C9kcmjc6",
        "outputId": "0f807a13-4eee-45e5-cf00-8874ddaedccd"
      },
      "execution_count": null,
      "outputs": [
        {
          "output_type": "stream",
          "name": "stdout",
          "text": [
            "digite sua idade18\n",
            "Você é obrigado a votar\n"
          ]
        }
      ]
    }
  ]
}